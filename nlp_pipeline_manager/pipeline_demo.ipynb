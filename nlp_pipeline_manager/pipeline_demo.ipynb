{
 "cells": [
  {
   "cell_type": "code",
   "execution_count": 1,
   "metadata": {
    "ExecuteTime": {
     "end_time": "2018-08-16T13:58:45.891755Z",
     "start_time": "2018-08-16T13:58:45.456866Z"
    }
   },
   "outputs": [],
   "source": [
    "from nlp_preprocessor import nlp_preprocessor\n",
    "import pandas as pd"
   ]
  },
  {
   "cell_type": "markdown",
   "metadata": {},
   "source": [
    "# Testing the preprocessor class"
   ]
  },
  {
   "cell_type": "code",
   "execution_count": 3,
   "metadata": {
    "ExecuteTime": {
     "end_time": "2018-08-16T13:58:59.678473Z",
     "start_time": "2018-08-16T13:58:57.722641Z"
    }
   },
   "outputs": [
    {
     "data": {
      "text/html": [
       "<div>\n",
       "<style scoped>\n",
       "    .dataframe tbody tr th:only-of-type {\n",
       "        vertical-align: middle;\n",
       "    }\n",
       "\n",
       "    .dataframe tbody tr th {\n",
       "        vertical-align: top;\n",
       "    }\n",
       "\n",
       "    .dataframe thead th {\n",
       "        text-align: right;\n",
       "    }\n",
       "</style>\n",
       "<table border=\"1\" class=\"dataframe\">\n",
       "  <thead>\n",
       "    <tr style=\"text-align: right;\">\n",
       "      <th></th>\n",
       "      <th>bob</th>\n",
       "      <th>builder</th>\n",
       "      <th>cartoon</th>\n",
       "      <th>is</th>\n",
       "      <th>strange</th>\n",
       "      <th>the</th>\n",
       "      <th>thing</th>\n",
       "      <th>type</th>\n",
       "    </tr>\n",
       "  </thead>\n",
       "  <tbody>\n",
       "    <tr>\n",
       "      <th>0</th>\n",
       "      <td>1</td>\n",
       "      <td>1</td>\n",
       "      <td>0</td>\n",
       "      <td>0</td>\n",
       "      <td>0</td>\n",
       "      <td>1</td>\n",
       "      <td>0</td>\n",
       "      <td>0</td>\n",
       "    </tr>\n",
       "    <tr>\n",
       "      <th>1</th>\n",
       "      <td>0</td>\n",
       "      <td>0</td>\n",
       "      <td>0</td>\n",
       "      <td>1</td>\n",
       "      <td>1</td>\n",
       "      <td>0</td>\n",
       "      <td>0</td>\n",
       "      <td>0</td>\n",
       "    </tr>\n",
       "    <tr>\n",
       "      <th>2</th>\n",
       "      <td>0</td>\n",
       "      <td>0</td>\n",
       "      <td>1</td>\n",
       "      <td>0</td>\n",
       "      <td>0</td>\n",
       "      <td>0</td>\n",
       "      <td>1</td>\n",
       "      <td>1</td>\n",
       "    </tr>\n",
       "  </tbody>\n",
       "</table>\n",
       "</div>"
      ],
      "text/plain": [
       "   bob  builder  cartoon  is  strange  the  thing  type\n",
       "0    1        1        0   0        0    1      0     0\n",
       "1    0        0        0   1        1    0      0     0\n",
       "2    0        0        1   0        0    0      1     1"
      ]
     },
     "execution_count": 3,
     "metadata": {},
     "output_type": "execute_result"
    }
   ],
   "source": [
    "from nltk.stem import WordNetLemmatizer\n",
    "\n",
    "lemma = WordNetLemmatizer()\n",
    "\n",
    "corpus = ['BOB the builder', 'is a strange', 'caRtoon type thing']\n",
    "nlp = nlp_preprocessor(stemmer = lemma.lemmatize)\n",
    "nlp.fit(corpus)\n",
    "pd.DataFrame(nlp.transform(corpus).toarray(), columns=nlp.vectorizer.get_feature_names())"
   ]
  },
  {
   "cell_type": "code",
   "execution_count": 4,
   "metadata": {
    "ExecuteTime": {
     "end_time": "2018-08-16T13:59:03.953921Z",
     "start_time": "2018-08-16T13:59:03.948587Z"
    }
   },
   "outputs": [
    {
     "data": {
      "text/plain": [
       "array([[1, 1, 0, 0, 0, 1, 0, 0],\n",
       "       [0, 0, 0, 1, 1, 0, 0, 0],\n",
       "       [0, 0, 1, 0, 0, 0, 1, 1]])"
      ]
     },
     "execution_count": 4,
     "metadata": {},
     "output_type": "execute_result"
    }
   ],
   "source": [
    "nlp.transform(corpus).toarray()"
   ]
  },
  {
   "cell_type": "markdown",
   "metadata": {},
   "source": [
    "# Testing the Supervised Learning Class"
   ]
  },
  {
   "cell_type": "code",
   "execution_count": 5,
   "metadata": {
    "ExecuteTime": {
     "end_time": "2018-08-16T13:59:06.378161Z",
     "start_time": "2018-08-16T13:59:06.372315Z"
    }
   },
   "outputs": [],
   "source": [
    "from supervised_nlp import supervised_nlp"
   ]
  },
  {
   "cell_type": "code",
   "execution_count": 6,
   "metadata": {
    "ExecuteTime": {
     "end_time": "2018-08-16T13:59:09.307480Z",
     "start_time": "2018-08-16T13:59:06.929183Z"
    }
   },
   "outputs": [],
   "source": [
    "from sklearn import datasets\n",
    "\n",
    "categories = ['alt.atheism', 'comp.graphics', 'rec.sport.baseball']\n",
    "ng_train = datasets.fetch_20newsgroups(subset='train', \n",
    "                                       categories=categories, \n",
    "                                       remove=('headers', \n",
    "                                               'footers', 'quotes'))\n",
    "ng_train_data = ng_train.data\n",
    "ng_train_targets = ng_train.target\n",
    "\n",
    "ng_test = datasets.fetch_20newsgroups(subset='test', \n",
    "                                       categories=categories, \n",
    "                                       remove=('headers', \n",
    "                                               'footers', 'quotes'))\n",
    "\n",
    "ng_test_data = ng_test.data\n",
    "ng_test_targets = ng_test.target"
   ]
  },
  {
   "cell_type": "code",
   "execution_count": 7,
   "metadata": {
    "ExecuteTime": {
     "end_time": "2018-08-16T13:59:13.076084Z",
     "start_time": "2018-08-16T13:59:09.309465Z"
    }
   },
   "outputs": [
    {
     "data": {
      "text/plain": [
       "0.9113122171945701"
      ]
     },
     "execution_count": 7,
     "metadata": {},
     "output_type": "execute_result"
    }
   ],
   "source": [
    "from sklearn.naive_bayes import MultinomialNB\n",
    "\n",
    "nlp_pipe = supervised_nlp(MultinomialNB(), nlp)\n",
    "nlp_pipe.fit(ng_train_data, ng_train_targets)\n",
    "nlp_pipe.score(ng_test_data, ng_test_targets)"
   ]
  },
  {
   "cell_type": "markdown",
   "metadata": {},
   "source": [
    "# Testing the Topic Modeling Class"
   ]
  },
  {
   "cell_type": "code",
   "execution_count": 8,
   "metadata": {
    "ExecuteTime": {
     "end_time": "2018-08-16T13:59:38.430684Z",
     "start_time": "2018-08-16T13:59:35.472286Z"
    }
   },
   "outputs": [
    {
     "name": "stdout",
     "output_type": "stream",
     "text": [
      "Topic #0: image jpeg file edu gif format color data pub ftp\n",
      "Topic #1: edu pub data graphics mail ftp ray send graphic com\n",
      "Topic #2: jesus god wa atheist matthew people ha atheism christian prophecy\n",
      "Topic #3: image data processing tool analysis software user available using sun\n",
      "Topic #4: jesus matthew prophecy wa psalm messiah day isaiah david prophet\n",
      "Topic #5: argument fallacy conclusion premise example true argumentum ad false valid\n",
      "Topic #6: data available ftp grass sgi vertex package model pci motecc\n",
      "Topic #7: wa game year team hit run don think good win\n",
      "Topic #8: posting response god subject typical information universe einstein wa bush\n",
      "Topic #9: den radius double theta sqrt pi sin rtheta pt pole\n",
      "Topic #10: program read think menu don bit change file want pressing\n",
      "Topic #11: program menu file read display game pressing change bit home\n",
      "Topic #12: won lost idle new york sox year san american chicago\n",
      "Topic #13: atheism alt faq send edu usenet news article answers newsgroup\n",
      "Topic #14: col int row value cub char imagewidth imageheight suck atheism\n"
     ]
    }
   ],
   "source": [
    "from sklearn.decomposition import TruncatedSVD\n",
    "from sklearn.feature_extraction.text import CountVectorizer\n",
    "\n",
    "from topic_modeling_nlp import topic_modeling_nlp\n",
    "\n",
    "\n",
    "cv = CountVectorizer(stop_words='english', token_pattern='\\\\b[a-z][a-z]+\\\\b')\n",
    "cleaning_pipe = nlp_preprocessor(vectorizer=cv, stemmer=lemma.lemmatize)\n",
    "topic_chain = topic_modeling_nlp(TruncatedSVD(n_components=15), preprocessing_pipeline=cleaning_pipe)\n",
    "\n",
    "topic_chain.fit(ng_train_data)\n",
    "topic_chain.print_topics()"
   ]
  },
  {
   "cell_type": "markdown",
   "metadata": {},
   "source": [
    "# Testing Saving and Loading a Pipeline"
   ]
  },
  {
   "cell_type": "code",
   "execution_count": 9,
   "metadata": {
    "ExecuteTime": {
     "end_time": "2018-08-16T13:59:48.733671Z",
     "start_time": "2018-08-16T13:59:48.644948Z"
    }
   },
   "outputs": [
    {
     "data": {
      "text/plain": [
       "method"
      ]
     },
     "execution_count": 9,
     "metadata": {},
     "output_type": "execute_result"
    }
   ],
   "source": [
    "from nltk.stem import PorterStemmer\n",
    "\n",
    "nlp = nlp_preprocessor(stemmer=PorterStemmer().stem)\n",
    "nlp.save_pipe('save_pipeline')\n",
    "type(nlp.stemmer)"
   ]
  },
  {
   "cell_type": "code",
   "execution_count": 10,
   "metadata": {
    "ExecuteTime": {
     "end_time": "2018-08-16T13:59:53.293256Z",
     "start_time": "2018-08-16T13:59:53.287874Z"
    }
   },
   "outputs": [
    {
     "data": {
      "text/plain": [
       "NoneType"
      ]
     },
     "execution_count": 10,
     "metadata": {},
     "output_type": "execute_result"
    }
   ],
   "source": [
    "nlp2 = nlp_preprocessor()\n",
    "type(nlp2.stemmer)"
   ]
  },
  {
   "cell_type": "code",
   "execution_count": 11,
   "metadata": {
    "ExecuteTime": {
     "end_time": "2018-08-16T13:59:56.710006Z",
     "start_time": "2018-08-16T13:59:56.688327Z"
    }
   },
   "outputs": [
    {
     "data": {
      "text/plain": [
       "method"
      ]
     },
     "execution_count": 11,
     "metadata": {},
     "output_type": "execute_result"
    }
   ],
   "source": [
    "nlp2.load_pipe('save_pipeline')\n",
    "type(nlp2.stemmer)"
   ]
  },
  {
   "cell_type": "code",
   "execution_count": null,
   "metadata": {},
   "outputs": [],
   "source": []
  }
 ],
 "metadata": {
  "kernelspec": {
   "display_name": "Python [default]",
   "language": "python",
   "name": "python3"
  },
  "language_info": {
   "codemirror_mode": {
    "name": "ipython",
    "version": 3
   },
   "file_extension": ".py",
   "mimetype": "text/x-python",
   "name": "python",
   "nbconvert_exporter": "python",
   "pygments_lexer": "ipython3",
   "version": "3.6.6"
  },
  "toc": {
   "nav_menu": {},
   "number_sections": true,
   "sideBar": true,
   "skip_h1_title": false,
   "toc_cell": false,
   "toc_position": {},
   "toc_section_display": "block",
   "toc_window_display": false
  }
 },
 "nbformat": 4,
 "nbformat_minor": 2
}
